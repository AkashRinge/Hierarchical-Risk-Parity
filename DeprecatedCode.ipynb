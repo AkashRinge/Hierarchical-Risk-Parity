{
 "cells": [
  {
   "cell_type": "code",
   "execution_count": 1,
   "id": "f0d68616",
   "metadata": {},
   "outputs": [
    {
     "ename": "NameError",
     "evalue": "name 'os' is not defined",
     "output_type": "error",
     "traceback": [
      "\u001b[1;31m---------------------------------------------------------------------------\u001b[0m",
      "\u001b[1;31mNameError\u001b[0m                                 Traceback (most recent call last)",
      "Cell \u001b[1;32mIn[1], line 5\u001b[0m\n\u001b[0;32m      2\u001b[0m directory_path \u001b[38;5;241m=\u001b[39m \u001b[38;5;124m'\u001b[39m\u001b[38;5;124mMFE_Project\u001b[39m\u001b[38;5;124m'\u001b[39m\n\u001b[0;32m      4\u001b[0m \u001b[38;5;66;03m# List all files in the directory\u001b[39;00m\n\u001b[1;32m----> 5\u001b[0m files \u001b[38;5;241m=\u001b[39m \u001b[43mos\u001b[49m\u001b[38;5;241m.\u001b[39mlistdir(directory_path)\n\u001b[0;32m      6\u001b[0m tuple_list \u001b[38;5;241m=\u001b[39m []\n\u001b[0;32m      8\u001b[0m \u001b[38;5;28;01mfor\u001b[39;00m filename \u001b[38;5;129;01min\u001b[39;00m files:\n",
      "\u001b[1;31mNameError\u001b[0m: name 'os' is not defined"
     ]
    }
   ],
   "source": [
    "# Specify the directory path\n",
    "directory_path = 'MFE_Project'\n",
    "\n",
    "# List all files in the directory\n",
    "files = os.listdir(directory_path)\n",
    "tuple_list = []\n",
    "\n",
    "for filename in files:\n",
    "    file_path = os.path.join(directory_path, filename)\n",
    "    df = pd.read_csv(file_path).dropna()\n",
    "    \n",
    "    df['date'] = pd.to_datetime(df['date'])\n",
    "    df['Year'] = df['date'].dt.year\n",
    "    groups = df.groupby('Year')\n",
    "    ticker = filename.split('.csv')[0]\n",
    "    \n",
    "    for year, group in groups:\n",
    "        if len(group) > 50:\n",
    "            my_tuple = [ticker, year]\n",
    "            for window, label in [(20, '1m'), (40, '2m'), (60, '3m'), (120, '6m'), (252, '1y')]:\n",
    "                Y = group[f'return_{label}']\n",
    "                X = group[f'momentum_{label}']\n",
    "                model = sm.OLS(Y, X)\n",
    "                results = model.fit()\n",
    "                my_tuple.append(results.params[0])\n",
    "            tuple_list.append(tuple(my_tuple))\n",
    "    print(ticker, end=' ')\n",
    "all_columns = ['Ticker', 'Year'] + [f'Coeff_{label}' for window, label in [(20, '1m'), (40, '2m'), (60, '3m'), (120, '6m'), (252, '1y')]]\n",
    "fama_mcbeth = pd.DataFrame(tuple_list, columns=all_columns)\n",
    "fama_mcbeth\n",
    "\n",
    "#fama_mcbeth_back = fama_french.copy()\n",
    "tuple_list = []\n",
    "groups = fama_mcbeth.groupby('Ticker')\n",
    "for ticker, group in groups:\n",
    "    my_tuple = [ticker] + [group[f'Coeff_{label}'].mean() for window, label in [(20, '1m'), (40, '2m'), (60, '3m'), (120, '6m'), (252, '1y')]]\n",
    "    tuple_list.append(tuple(my_tuple))\n",
    "all_columns = ['Ticker'] + [f'Coeff_{label}' for window, label in [(20, '1m'), (40, '2m'), (60, '3m'), (120, '6m'), (252, '1y')]]\n",
    "fama_mcbeth2 = pd.DataFrame(tuple_list, columns=all_columns)\n",
    "fama_mcbeth2"
   ]
  }
 ],
 "metadata": {
  "kernelspec": {
   "display_name": "Python 3 (ipykernel)",
   "language": "python",
   "name": "python3"
  },
  "language_info": {
   "codemirror_mode": {
    "name": "ipython",
    "version": 3
   },
   "file_extension": ".py",
   "mimetype": "text/x-python",
   "name": "python",
   "nbconvert_exporter": "python",
   "pygments_lexer": "ipython3",
   "version": "3.9.16"
  }
 },
 "nbformat": 4,
 "nbformat_minor": 5
}
